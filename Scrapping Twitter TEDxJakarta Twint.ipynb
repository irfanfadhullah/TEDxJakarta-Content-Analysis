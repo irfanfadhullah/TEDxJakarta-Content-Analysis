{
 "cells": [
  {
   "cell_type": "code",
   "execution_count": 1,
   "metadata": {},
   "outputs": [],
   "source": [
    "#!pip install twint\n",
    "import twint\n",
    "import nest_asyncio\n",
    "\n",
    "nest_asyncio.apply()"
   ]
  },
  {
   "cell_type": "code",
   "execution_count": 6,
   "metadata": {},
   "outputs": [],
   "source": [
    "import pandas as pd\n",
    "\n",
    "c = twint.Config()\n",
    "\n",
    "c.Username =  '@pinot'\n",
    "c.Until = '2014-12-6 23:59:59'\n",
    "#c.Lang ='id'\n",
    "c.Hide_output = True\n",
    "\n",
    "c.Store_csv = True\n",
    "c.Output = 'naynadine.csv'"
   ]
  },
  {
   "cell_type": "code",
   "execution_count": 7,
   "metadata": {},
   "outputs": [
    {
     "name": "stderr",
     "output_type": "stream",
     "text": [
      "CRITICAL:root:twint.get:User:'NoneType' object is not subscriptable\n",
      "CRITICAL:root:twint.output:_output:CSV:Error:[Errno 13] Permission denied: 'naynadine.csv'\n",
      "CRITICAL:root:twint.output:_output:CSV:Error:[Errno 13] Permission denied: 'naynadine.csv'\n"
     ]
    },
    {
     "name": "stdout",
     "output_type": "stream",
     "text": [
      "[Errno 13] Permission denied: 'naynadine.csv' [x] output._output\n",
      "[Errno 13] Permission denied: 'naynadine.csv' [x] output._output\n"
     ]
    },
    {
     "name": "stderr",
     "output_type": "stream",
     "text": [
      "CRITICAL:root:twint.output:_output:CSV:Error:[Errno 13] Permission denied: 'naynadine.csv'\n"
     ]
    },
    {
     "name": "stdout",
     "output_type": "stream",
     "text": [
      "[Errno 13] Permission denied: 'naynadine.csv' [x] output._output\n"
     ]
    },
    {
     "name": "stderr",
     "output_type": "stream",
     "text": [
      "CRITICAL:root:twint.output:_output:CSV:Error:[Errno 13] Permission denied: 'naynadine.csv'\n"
     ]
    },
    {
     "name": "stdout",
     "output_type": "stream",
     "text": [
      "[Errno 13] Permission denied: 'naynadine.csv' [x] output._output\n"
     ]
    },
    {
     "name": "stderr",
     "output_type": "stream",
     "text": [
      "CRITICAL:root:twint.output:_output:CSV:Error:[Errno 13] Permission denied: 'naynadine.csv'\n"
     ]
    },
    {
     "name": "stdout",
     "output_type": "stream",
     "text": [
      "[Errno 13] Permission denied: 'naynadine.csv' [x] output._output\n"
     ]
    },
    {
     "name": "stderr",
     "output_type": "stream",
     "text": [
      "CRITICAL:root:twint.output:_output:CSV:Error:[Errno 13] Permission denied: 'naynadine.csv'\n",
      "CRITICAL:root:twint.output:_output:CSV:Error:[Errno 13] Permission denied: 'naynadine.csv'\n"
     ]
    },
    {
     "name": "stdout",
     "output_type": "stream",
     "text": [
      "[Errno 13] Permission denied: 'naynadine.csv' [x] output._output\n"
     ]
    },
    {
     "name": "stderr",
     "output_type": "stream",
     "text": [
      "CRITICAL:root:twint.output:_output:CSV:Error:[Errno 13] Permission denied: 'naynadine.csv'\n"
     ]
    },
    {
     "name": "stdout",
     "output_type": "stream",
     "text": [
      "[Errno 13] Permission denied: 'naynadine.csv' [x] output._output\n",
      "[Errno 13] Permission denied: 'naynadine.csv' [x] output._output\n"
     ]
    },
    {
     "name": "stderr",
     "output_type": "stream",
     "text": [
      "CRITICAL:root:twint.output:_output:CSV:Error:[Errno 13] Permission denied: 'naynadine.csv'\n",
      "CRITICAL:root:twint.output:_output:CSV:Error:[Errno 13] Permission denied: 'naynadine.csv'\n"
     ]
    },
    {
     "name": "stdout",
     "output_type": "stream",
     "text": [
      "[Errno 13] Permission denied: 'naynadine.csv' [x] output._output\n",
      "[Errno 13] Permission denied: 'naynadine.csv' [x] output._output\n"
     ]
    },
    {
     "name": "stderr",
     "output_type": "stream",
     "text": [
      "CRITICAL:root:twint.output:_output:CSV:Error:[Errno 13] Permission denied: 'naynadine.csv'\n",
      "CRITICAL:root:twint.output:_output:CSV:Error:[Errno 13] Permission denied: 'naynadine.csv'\n"
     ]
    },
    {
     "name": "stdout",
     "output_type": "stream",
     "text": [
      "[Errno 13] Permission denied: 'naynadine.csv' [x] output._output\n",
      "[Errno 13] Permission denied: 'naynadine.csv' [x] output._output\n"
     ]
    },
    {
     "name": "stderr",
     "output_type": "stream",
     "text": [
      "CRITICAL:root:twint.output:_output:CSV:Error:[Errno 13] Permission denied: 'naynadine.csv'\n",
      "CRITICAL:root:twint.output:_output:CSV:Error:[Errno 13] Permission denied: 'naynadine.csv'\n"
     ]
    },
    {
     "name": "stdout",
     "output_type": "stream",
     "text": [
      "[Errno 13] Permission denied: 'naynadine.csv' [x] output._output\n",
      "[Errno 13] Permission denied: 'naynadine.csv' [x] output._output\n"
     ]
    },
    {
     "name": "stderr",
     "output_type": "stream",
     "text": [
      "CRITICAL:root:twint.output:_output:CSV:Error:[Errno 13] Permission denied: 'naynadine.csv'\n",
      "CRITICAL:root:twint.output:_output:CSV:Error:[Errno 13] Permission denied: 'naynadine.csv'\n"
     ]
    },
    {
     "name": "stdout",
     "output_type": "stream",
     "text": [
      "[Errno 13] Permission denied: 'naynadine.csv' [x] output._output\n",
      "[Errno 13] Permission denied: 'naynadine.csv' [x] output._output\n"
     ]
    },
    {
     "name": "stderr",
     "output_type": "stream",
     "text": [
      "CRITICAL:root:twint.output:_output:CSV:Error:[Errno 13] Permission denied: 'naynadine.csv'\n",
      "CRITICAL:root:twint.output:_output:CSV:Error:[Errno 13] Permission denied: 'naynadine.csv'\n"
     ]
    },
    {
     "name": "stdout",
     "output_type": "stream",
     "text": [
      "[Errno 13] Permission denied: 'naynadine.csv' [x] output._output\n",
      "[Errno 13] Permission denied: 'naynadine.csv' [x] output._output\n"
     ]
    },
    {
     "name": "stderr",
     "output_type": "stream",
     "text": [
      "CRITICAL:root:twint.output:_output:CSV:Error:[Errno 13] Permission denied: 'naynadine.csv'\n",
      "CRITICAL:root:twint.output:_output:CSV:Error:[Errno 13] Permission denied: 'naynadine.csv'\n"
     ]
    },
    {
     "name": "stdout",
     "output_type": "stream",
     "text": [
      "[Errno 13] Permission denied: 'naynadine.csv' [x] output._output\n",
      "[Errno 13] Permission denied: 'naynadine.csv' [x] output._output\n"
     ]
    },
    {
     "name": "stderr",
     "output_type": "stream",
     "text": [
      "CRITICAL:root:twint.output:_output:CSV:Error:[Errno 13] Permission denied: 'naynadine.csv'\n",
      "CRITICAL:root:twint.output:_output:CSV:Error:[Errno 13] Permission denied: 'naynadine.csv'\n"
     ]
    },
    {
     "name": "stdout",
     "output_type": "stream",
     "text": [
      "[Errno 13] Permission denied: 'naynadine.csv' [x] output._output\n",
      "[Errno 13] Permission denied: 'naynadine.csv' [x] output._output\n"
     ]
    },
    {
     "name": "stderr",
     "output_type": "stream",
     "text": [
      "CRITICAL:root:twint.output:_output:CSV:Error:[Errno 13] Permission denied: 'naynadine.csv'\n",
      "CRITICAL:root:twint.output:_output:CSV:Error:[Errno 13] Permission denied: 'naynadine.csv'\n",
      "CRITICAL:root:twint.output:_output:CSV:Error:[Errno 13] Permission denied: 'naynadine.csv'\n"
     ]
    },
    {
     "name": "stdout",
     "output_type": "stream",
     "text": [
      "[Errno 13] Permission denied: 'naynadine.csv' [x] output._output\n",
      "[Errno 13] Permission denied: 'naynadine.csv' [x] output._output\n",
      "[Errno 13] Permission denied: 'naynadine.csv' [x] output._output\n"
     ]
    },
    {
     "name": "stderr",
     "output_type": "stream",
     "text": [
      "CRITICAL:root:twint.output:_output:CSV:Error:[Errno 13] Permission denied: 'naynadine.csv'\n"
     ]
    },
    {
     "name": "stdout",
     "output_type": "stream",
     "text": [
      "[Errno 13] Permission denied: 'naynadine.csv' [x] output._output\n"
     ]
    }
   ],
   "source": [
    "twint.run.Search(c)"
   ]
  },
  {
   "cell_type": "code",
   "execution_count": 154,
   "metadata": {},
   "outputs": [
    {
     "name": "stdout",
     "output_type": "stream",
     "text": [
      "<class 'pandas.core.frame.DataFrame'>\n",
      "RangeIndex: 24440 entries, 0 to 24439\n",
      "Data columns (total 34 columns):\n",
      "id                 24440 non-null int64\n",
      "conversation_id    24440 non-null int64\n",
      "created_at         24440 non-null int64\n",
      "date               24440 non-null object\n",
      "time               24440 non-null object\n",
      "timezone           24440 non-null object\n",
      "user_id            24440 non-null int64\n",
      "username           24440 non-null object\n",
      "name               24439 non-null object\n",
      "place              0 non-null float64\n",
      "tweet              24440 non-null object\n",
      "mentions           24440 non-null object\n",
      "urls               24440 non-null object\n",
      "photos             24440 non-null object\n",
      "replies_count      24440 non-null int64\n",
      "retweets_count     24440 non-null int64\n",
      "likes_count        24440 non-null int64\n",
      "hashtags           24440 non-null object\n",
      "cashtags           24440 non-null object\n",
      "link               24440 non-null object\n",
      "retweet            24440 non-null bool\n",
      "quote_url          1 non-null object\n",
      "video              24440 non-null int64\n",
      "near               0 non-null float64\n",
      "geo                0 non-null float64\n",
      "source             0 non-null float64\n",
      "user_rt_id         0 non-null float64\n",
      "user_rt            0 non-null float64\n",
      "retweet_id         0 non-null float64\n",
      "reply_to           24440 non-null object\n",
      "retweet_date       0 non-null float64\n",
      "translate          0 non-null float64\n",
      "trans_src          0 non-null float64\n",
      "trans_dest         0 non-null float64\n",
      "dtypes: bool(1), float64(11), int64(8), object(14)\n",
      "memory usage: 6.2+ MB\n"
     ]
    },
    {
     "name": "stderr",
     "output_type": "stream",
     "text": [
      "C:\\Users\\irfanfadhullah\\AppData\\Local\\Continuum\\anaconda3\\lib\\site-packages\\IPython\\core\\interactiveshell.py:3058: DtypeWarning: Columns (21) have mixed types. Specify dtype option on import or set low_memory=False.\n",
      "  interactivity=interactivity, compiler=compiler, result=result)\n"
     ]
    }
   ],
   "source": [
    "df = pd.read_csv('TEDxJakarta2009-2013.csv')\n",
    "\n",
    "df.info()"
   ]
  },
  {
   "cell_type": "code",
   "execution_count": 155,
   "metadata": {
    "scrolled": false
   },
   "outputs": [
    {
     "data": {
      "text/html": [
       "<div>\n",
       "<style scoped>\n",
       "    .dataframe tbody tr th:only-of-type {\n",
       "        vertical-align: middle;\n",
       "    }\n",
       "\n",
       "    .dataframe tbody tr th {\n",
       "        vertical-align: top;\n",
       "    }\n",
       "\n",
       "    .dataframe thead th {\n",
       "        text-align: right;\n",
       "    }\n",
       "</style>\n",
       "<table border=\"1\" class=\"dataframe\">\n",
       "  <thead>\n",
       "    <tr style=\"text-align: right;\">\n",
       "      <th></th>\n",
       "      <th>id</th>\n",
       "      <th>conversation_id</th>\n",
       "      <th>created_at</th>\n",
       "      <th>date</th>\n",
       "      <th>time</th>\n",
       "      <th>timezone</th>\n",
       "      <th>user_id</th>\n",
       "      <th>username</th>\n",
       "      <th>name</th>\n",
       "      <th>place</th>\n",
       "      <th>...</th>\n",
       "      <th>geo</th>\n",
       "      <th>source</th>\n",
       "      <th>user_rt_id</th>\n",
       "      <th>user_rt</th>\n",
       "      <th>retweet_id</th>\n",
       "      <th>reply_to</th>\n",
       "      <th>retweet_date</th>\n",
       "      <th>translate</th>\n",
       "      <th>trans_src</th>\n",
       "      <th>trans_dest</th>\n",
       "    </tr>\n",
       "  </thead>\n",
       "  <tbody>\n",
       "    <tr>\n",
       "      <td>24435</td>\n",
       "      <td>1809463618</td>\n",
       "      <td>1809463618</td>\n",
       "      <td>1242416612000</td>\n",
       "      <td>2009-05-16</td>\n",
       "      <td>02:43:32</td>\n",
       "      <td>SE Asia Standard Time</td>\n",
       "      <td>30616129</td>\n",
       "      <td>adihrespati</td>\n",
       "      <td>Adi Respati</td>\n",
       "      <td>NaN</td>\n",
       "      <td>...</td>\n",
       "      <td>NaN</td>\n",
       "      <td>NaN</td>\n",
       "      <td>NaN</td>\n",
       "      <td>NaN</td>\n",
       "      <td>NaN</td>\n",
       "      <td>[{'user_id': '30616129', 'username': 'adihresp...</td>\n",
       "      <td>NaN</td>\n",
       "      <td>NaN</td>\n",
       "      <td>NaN</td>\n",
       "      <td>NaN</td>\n",
       "    </tr>\n",
       "    <tr>\n",
       "      <td>24436</td>\n",
       "      <td>1805375977</td>\n",
       "      <td>1805375977</td>\n",
       "      <td>1242390073000</td>\n",
       "      <td>2009-05-15</td>\n",
       "      <td>19:21:13</td>\n",
       "      <td>SE Asia Standard Time</td>\n",
       "      <td>36541823</td>\n",
       "      <td>alexabimanyu</td>\n",
       "      <td>Alexander Abimanyu</td>\n",
       "      <td>NaN</td>\n",
       "      <td>...</td>\n",
       "      <td>NaN</td>\n",
       "      <td>NaN</td>\n",
       "      <td>NaN</td>\n",
       "      <td>NaN</td>\n",
       "      <td>NaN</td>\n",
       "      <td>[{'user_id': '36541823', 'username': 'alexabim...</td>\n",
       "      <td>NaN</td>\n",
       "      <td>NaN</td>\n",
       "      <td>NaN</td>\n",
       "      <td>NaN</td>\n",
       "    </tr>\n",
       "    <tr>\n",
       "      <td>24437</td>\n",
       "      <td>1794236946</td>\n",
       "      <td>1794236946</td>\n",
       "      <td>1242303567000</td>\n",
       "      <td>2009-05-14</td>\n",
       "      <td>19:19:27</td>\n",
       "      <td>SE Asia Standard Time</td>\n",
       "      <td>15450371</td>\n",
       "      <td>_larapotter</td>\n",
       "      <td>Lara Potter</td>\n",
       "      <td>NaN</td>\n",
       "      <td>...</td>\n",
       "      <td>NaN</td>\n",
       "      <td>NaN</td>\n",
       "      <td>NaN</td>\n",
       "      <td>NaN</td>\n",
       "      <td>NaN</td>\n",
       "      <td>[{'user_id': '15450371', 'username': '_larapot...</td>\n",
       "      <td>NaN</td>\n",
       "      <td>NaN</td>\n",
       "      <td>NaN</td>\n",
       "      <td>NaN</td>\n",
       "    </tr>\n",
       "    <tr>\n",
       "      <td>24438</td>\n",
       "      <td>1794113916</td>\n",
       "      <td>1794113916</td>\n",
       "      <td>1242302392000</td>\n",
       "      <td>2009-05-14</td>\n",
       "      <td>18:59:52</td>\n",
       "      <td>SE Asia Standard Time</td>\n",
       "      <td>36541823</td>\n",
       "      <td>alexabimanyu</td>\n",
       "      <td>Alexander Abimanyu</td>\n",
       "      <td>NaN</td>\n",
       "      <td>...</td>\n",
       "      <td>NaN</td>\n",
       "      <td>NaN</td>\n",
       "      <td>NaN</td>\n",
       "      <td>NaN</td>\n",
       "      <td>NaN</td>\n",
       "      <td>[{'user_id': '36541823', 'username': 'alexabim...</td>\n",
       "      <td>NaN</td>\n",
       "      <td>NaN</td>\n",
       "      <td>NaN</td>\n",
       "      <td>NaN</td>\n",
       "    </tr>\n",
       "    <tr>\n",
       "      <td>24439</td>\n",
       "      <td>1635637250</td>\n",
       "      <td>1635637250</td>\n",
       "      <td>1240888312000</td>\n",
       "      <td>2009-04-28</td>\n",
       "      <td>10:11:52</td>\n",
       "      <td>SE Asia Standard Time</td>\n",
       "      <td>20906178</td>\n",
       "      <td>drpdg</td>\n",
       "      <td>Dr. Paul D.Giammalvo</td>\n",
       "      <td>NaN</td>\n",
       "      <td>...</td>\n",
       "      <td>NaN</td>\n",
       "      <td>NaN</td>\n",
       "      <td>NaN</td>\n",
       "      <td>NaN</td>\n",
       "      <td>NaN</td>\n",
       "      <td>[{'user_id': '20906178', 'username': 'DrPDG'}]</td>\n",
       "      <td>NaN</td>\n",
       "      <td>NaN</td>\n",
       "      <td>NaN</td>\n",
       "      <td>NaN</td>\n",
       "    </tr>\n",
       "  </tbody>\n",
       "</table>\n",
       "<p>5 rows × 34 columns</p>\n",
       "</div>"
      ],
      "text/plain": [
       "               id  conversation_id     created_at        date      time  \\\n",
       "24435  1809463618       1809463618  1242416612000  2009-05-16  02:43:32   \n",
       "24436  1805375977       1805375977  1242390073000  2009-05-15  19:21:13   \n",
       "24437  1794236946       1794236946  1242303567000  2009-05-14  19:19:27   \n",
       "24438  1794113916       1794113916  1242302392000  2009-05-14  18:59:52   \n",
       "24439  1635637250       1635637250  1240888312000  2009-04-28  10:11:52   \n",
       "\n",
       "                    timezone   user_id      username                  name  \\\n",
       "24435  SE Asia Standard Time  30616129   adihrespati           Adi Respati   \n",
       "24436  SE Asia Standard Time  36541823  alexabimanyu    Alexander Abimanyu   \n",
       "24437  SE Asia Standard Time  15450371   _larapotter           Lara Potter   \n",
       "24438  SE Asia Standard Time  36541823  alexabimanyu    Alexander Abimanyu   \n",
       "24439  SE Asia Standard Time  20906178         drpdg  Dr. Paul D.Giammalvo   \n",
       "\n",
       "       place  ... geo source user_rt_id user_rt  retweet_id  \\\n",
       "24435    NaN  ... NaN    NaN        NaN     NaN         NaN   \n",
       "24436    NaN  ... NaN    NaN        NaN     NaN         NaN   \n",
       "24437    NaN  ... NaN    NaN        NaN     NaN         NaN   \n",
       "24438    NaN  ... NaN    NaN        NaN     NaN         NaN   \n",
       "24439    NaN  ... NaN    NaN        NaN     NaN         NaN   \n",
       "\n",
       "                                                reply_to  retweet_date  \\\n",
       "24435  [{'user_id': '30616129', 'username': 'adihresp...           NaN   \n",
       "24436  [{'user_id': '36541823', 'username': 'alexabim...           NaN   \n",
       "24437  [{'user_id': '15450371', 'username': '_larapot...           NaN   \n",
       "24438  [{'user_id': '36541823', 'username': 'alexabim...           NaN   \n",
       "24439     [{'user_id': '20906178', 'username': 'DrPDG'}]           NaN   \n",
       "\n",
       "      translate trans_src trans_dest  \n",
       "24435       NaN       NaN        NaN  \n",
       "24436       NaN       NaN        NaN  \n",
       "24437       NaN       NaN        NaN  \n",
       "24438       NaN       NaN        NaN  \n",
       "24439       NaN       NaN        NaN  \n",
       "\n",
       "[5 rows x 34 columns]"
      ]
     },
     "execution_count": 155,
     "metadata": {},
     "output_type": "execute_result"
    }
   ],
   "source": [
    "df.tail(5)"
   ]
  },
  {
   "cell_type": "code",
   "execution_count": 33,
   "metadata": {},
   "outputs": [],
   "source": [
    "import pandas as pd\n",
    "\n",
    "c = twint.Config()\n",
    "\n",
    "c.Search = '#TEDxJakarta OR TEDxJakarta OR tedxjakarta'\n",
    "\n",
    "c.Since = '2013-06-02'\n",
    "c.Until = '2017-05-31'\n",
    "\n",
    "c.Hide_output = True\n",
    "\n",
    "c.Store_csv = True\n",
    "c.Output = 'TEDxJakarta2013-2017.csv'"
   ]
  },
  {
   "cell_type": "code",
   "execution_count": 34,
   "metadata": {},
   "outputs": [],
   "source": [
    "twint.run.Search(c)"
   ]
  },
  {
   "cell_type": "code",
   "execution_count": 48,
   "metadata": {},
   "outputs": [
    {
     "name": "stdout",
     "output_type": "stream",
     "text": [
      "<class 'pandas.core.frame.DataFrame'>\n",
      "RangeIndex: 5278 entries, 0 to 5277\n",
      "Data columns (total 34 columns):\n",
      "id                 5278 non-null int64\n",
      "conversation_id    5278 non-null int64\n",
      "created_at         5278 non-null int64\n",
      "date               5278 non-null object\n",
      "time               5278 non-null object\n",
      "timezone           5278 non-null object\n",
      "user_id            5278 non-null int64\n",
      "username           5278 non-null object\n",
      "name               5278 non-null object\n",
      "place              0 non-null float64\n",
      "tweet              5278 non-null object\n",
      "mentions           5278 non-null object\n",
      "urls               5278 non-null object\n",
      "photos             5278 non-null object\n",
      "replies_count      5278 non-null int64\n",
      "retweets_count     5278 non-null int64\n",
      "likes_count        5278 non-null int64\n",
      "hashtags           5278 non-null object\n",
      "cashtags           5278 non-null object\n",
      "link               5278 non-null object\n",
      "retweet            5278 non-null bool\n",
      "quote_url          73 non-null object\n",
      "video              5278 non-null int64\n",
      "near               0 non-null float64\n",
      "geo                0 non-null float64\n",
      "source             0 non-null float64\n",
      "user_rt_id         0 non-null float64\n",
      "user_rt            0 non-null float64\n",
      "retweet_id         0 non-null float64\n",
      "reply_to           5278 non-null object\n",
      "retweet_date       0 non-null float64\n",
      "translate          0 non-null float64\n",
      "trans_src          0 non-null float64\n",
      "trans_dest         0 non-null float64\n",
      "dtypes: bool(1), float64(11), int64(8), object(14)\n",
      "memory usage: 1.3+ MB\n"
     ]
    }
   ],
   "source": [
    "df2 = pd.read_csv('TEDxJakarta2013-2017.csv')\n",
    "\n",
    "df2.info()"
   ]
  },
  {
   "cell_type": "code",
   "execution_count": 49,
   "metadata": {
    "scrolled": false
   },
   "outputs": [
    {
     "data": {
      "text/html": [
       "<div>\n",
       "<style scoped>\n",
       "    .dataframe tbody tr th:only-of-type {\n",
       "        vertical-align: middle;\n",
       "    }\n",
       "\n",
       "    .dataframe tbody tr th {\n",
       "        vertical-align: top;\n",
       "    }\n",
       "\n",
       "    .dataframe thead th {\n",
       "        text-align: right;\n",
       "    }\n",
       "</style>\n",
       "<table border=\"1\" class=\"dataframe\">\n",
       "  <thead>\n",
       "    <tr style=\"text-align: right;\">\n",
       "      <th></th>\n",
       "      <th>id</th>\n",
       "      <th>conversation_id</th>\n",
       "      <th>created_at</th>\n",
       "      <th>date</th>\n",
       "      <th>time</th>\n",
       "      <th>timezone</th>\n",
       "      <th>user_id</th>\n",
       "      <th>username</th>\n",
       "      <th>name</th>\n",
       "      <th>place</th>\n",
       "      <th>...</th>\n",
       "      <th>geo</th>\n",
       "      <th>source</th>\n",
       "      <th>user_rt_id</th>\n",
       "      <th>user_rt</th>\n",
       "      <th>retweet_id</th>\n",
       "      <th>reply_to</th>\n",
       "      <th>retweet_date</th>\n",
       "      <th>translate</th>\n",
       "      <th>trans_src</th>\n",
       "      <th>trans_dest</th>\n",
       "    </tr>\n",
       "  </thead>\n",
       "  <tbody>\n",
       "    <tr>\n",
       "      <td>5273</td>\n",
       "      <td>341535528342151168</td>\n",
       "      <td>341535528342151168</td>\n",
       "      <td>1370263390000</td>\n",
       "      <td>2013-06-03</td>\n",
       "      <td>19:43:10</td>\n",
       "      <td>SE Asia Standard Time</td>\n",
       "      <td>46087436</td>\n",
       "      <td>tedxjakarta</td>\n",
       "      <td>TEDxJakarta</td>\n",
       "      <td>NaN</td>\n",
       "      <td>...</td>\n",
       "      <td>NaN</td>\n",
       "      <td>NaN</td>\n",
       "      <td>NaN</td>\n",
       "      <td>NaN</td>\n",
       "      <td>NaN</td>\n",
       "      <td>[{'user_id': '46087436', 'username': 'TEDxJaka...</td>\n",
       "      <td>NaN</td>\n",
       "      <td>NaN</td>\n",
       "      <td>NaN</td>\n",
       "      <td>NaN</td>\n",
       "    </tr>\n",
       "    <tr>\n",
       "      <td>5274</td>\n",
       "      <td>341407806118834176</td>\n",
       "      <td>341407806118834176</td>\n",
       "      <td>1370232938000</td>\n",
       "      <td>2013-06-03</td>\n",
       "      <td>11:15:38</td>\n",
       "      <td>SE Asia Standard Time</td>\n",
       "      <td>60981696</td>\n",
       "      <td>grahazhuri</td>\n",
       "      <td>Nurhady G.A.,S.H.</td>\n",
       "      <td>NaN</td>\n",
       "      <td>...</td>\n",
       "      <td>NaN</td>\n",
       "      <td>NaN</td>\n",
       "      <td>NaN</td>\n",
       "      <td>NaN</td>\n",
       "      <td>NaN</td>\n",
       "      <td>[{'user_id': '60981696', 'username': 'grahazhu...</td>\n",
       "      <td>NaN</td>\n",
       "      <td>NaN</td>\n",
       "      <td>NaN</td>\n",
       "      <td>NaN</td>\n",
       "    </tr>\n",
       "    <tr>\n",
       "      <td>5275</td>\n",
       "      <td>341184832799404033</td>\n",
       "      <td>341184832799404033</td>\n",
       "      <td>1370179777000</td>\n",
       "      <td>2013-06-02</td>\n",
       "      <td>20:29:37</td>\n",
       "      <td>SE Asia Standard Time</td>\n",
       "      <td>94255932</td>\n",
       "      <td>ndanwachyudi</td>\n",
       "      <td>Ndan</td>\n",
       "      <td>NaN</td>\n",
       "      <td>...</td>\n",
       "      <td>NaN</td>\n",
       "      <td>NaN</td>\n",
       "      <td>NaN</td>\n",
       "      <td>NaN</td>\n",
       "      <td>NaN</td>\n",
       "      <td>[{'user_id': '94255932', 'username': 'NdanWach...</td>\n",
       "      <td>NaN</td>\n",
       "      <td>NaN</td>\n",
       "      <td>NaN</td>\n",
       "      <td>NaN</td>\n",
       "    </tr>\n",
       "    <tr>\n",
       "      <td>5276</td>\n",
       "      <td>341184215976669184</td>\n",
       "      <td>341184215976669184</td>\n",
       "      <td>1370179630000</td>\n",
       "      <td>2013-06-02</td>\n",
       "      <td>20:27:10</td>\n",
       "      <td>SE Asia Standard Time</td>\n",
       "      <td>94255932</td>\n",
       "      <td>ndanwachyudi</td>\n",
       "      <td>Ndan</td>\n",
       "      <td>NaN</td>\n",
       "      <td>...</td>\n",
       "      <td>NaN</td>\n",
       "      <td>NaN</td>\n",
       "      <td>NaN</td>\n",
       "      <td>NaN</td>\n",
       "      <td>NaN</td>\n",
       "      <td>[{'user_id': '94255932', 'username': 'NdanWach...</td>\n",
       "      <td>NaN</td>\n",
       "      <td>NaN</td>\n",
       "      <td>NaN</td>\n",
       "      <td>NaN</td>\n",
       "    </tr>\n",
       "    <tr>\n",
       "      <td>5277</td>\n",
       "      <td>341183401035956224</td>\n",
       "      <td>341183401035956224</td>\n",
       "      <td>1370179436000</td>\n",
       "      <td>2013-06-02</td>\n",
       "      <td>20:23:56</td>\n",
       "      <td>SE Asia Standard Time</td>\n",
       "      <td>94255932</td>\n",
       "      <td>ndanwachyudi</td>\n",
       "      <td>Ndan</td>\n",
       "      <td>NaN</td>\n",
       "      <td>...</td>\n",
       "      <td>NaN</td>\n",
       "      <td>NaN</td>\n",
       "      <td>NaN</td>\n",
       "      <td>NaN</td>\n",
       "      <td>NaN</td>\n",
       "      <td>[{'user_id': '94255932', 'username': 'NdanWach...</td>\n",
       "      <td>NaN</td>\n",
       "      <td>NaN</td>\n",
       "      <td>NaN</td>\n",
       "      <td>NaN</td>\n",
       "    </tr>\n",
       "  </tbody>\n",
       "</table>\n",
       "<p>5 rows × 34 columns</p>\n",
       "</div>"
      ],
      "text/plain": [
       "                      id     conversation_id     created_at        date  \\\n",
       "5273  341535528342151168  341535528342151168  1370263390000  2013-06-03   \n",
       "5274  341407806118834176  341407806118834176  1370232938000  2013-06-03   \n",
       "5275  341184832799404033  341184832799404033  1370179777000  2013-06-02   \n",
       "5276  341184215976669184  341184215976669184  1370179630000  2013-06-02   \n",
       "5277  341183401035956224  341183401035956224  1370179436000  2013-06-02   \n",
       "\n",
       "          time               timezone   user_id      username  \\\n",
       "5273  19:43:10  SE Asia Standard Time  46087436   tedxjakarta   \n",
       "5274  11:15:38  SE Asia Standard Time  60981696    grahazhuri   \n",
       "5275  20:29:37  SE Asia Standard Time  94255932  ndanwachyudi   \n",
       "5276  20:27:10  SE Asia Standard Time  94255932  ndanwachyudi   \n",
       "5277  20:23:56  SE Asia Standard Time  94255932  ndanwachyudi   \n",
       "\n",
       "                   name  place  ... geo source user_rt_id user_rt  retweet_id  \\\n",
       "5273        TEDxJakarta    NaN  ... NaN    NaN        NaN     NaN         NaN   \n",
       "5274  Nurhady G.A.,S.H.    NaN  ... NaN    NaN        NaN     NaN         NaN   \n",
       "5275               Ndan    NaN  ... NaN    NaN        NaN     NaN         NaN   \n",
       "5276               Ndan    NaN  ... NaN    NaN        NaN     NaN         NaN   \n",
       "5277               Ndan    NaN  ... NaN    NaN        NaN     NaN         NaN   \n",
       "\n",
       "                                               reply_to  retweet_date  \\\n",
       "5273  [{'user_id': '46087436', 'username': 'TEDxJaka...           NaN   \n",
       "5274  [{'user_id': '60981696', 'username': 'grahazhu...           NaN   \n",
       "5275  [{'user_id': '94255932', 'username': 'NdanWach...           NaN   \n",
       "5276  [{'user_id': '94255932', 'username': 'NdanWach...           NaN   \n",
       "5277  [{'user_id': '94255932', 'username': 'NdanWach...           NaN   \n",
       "\n",
       "     translate trans_src trans_dest  \n",
       "5273       NaN       NaN        NaN  \n",
       "5274       NaN       NaN        NaN  \n",
       "5275       NaN       NaN        NaN  \n",
       "5276       NaN       NaN        NaN  \n",
       "5277       NaN       NaN        NaN  \n",
       "\n",
       "[5 rows x 34 columns]"
      ]
     },
     "execution_count": 49,
     "metadata": {},
     "output_type": "execute_result"
    }
   ],
   "source": [
    "df2.tail(5)"
   ]
  },
  {
   "cell_type": "code",
   "execution_count": 38,
   "metadata": {},
   "outputs": [],
   "source": [
    "import pandas as pd\n",
    "\n",
    "c = twint.Config()\n",
    "\n",
    "c.Search = '#TEDxJakarta OR TEDxJakarta OR tedxjakarta'\n",
    "\n",
    "c.Since = '2017-05-31'\n",
    "c.Until = '2020-05-31'\n",
    "\n",
    "c.Hide_output = True\n",
    "\n",
    "c.Store_csv = True\n",
    "c.Output = 'TEDxJakarta2017-2020.csv'"
   ]
  },
  {
   "cell_type": "code",
   "execution_count": 39,
   "metadata": {},
   "outputs": [],
   "source": [
    "twint.run.Search(c)"
   ]
  },
  {
   "cell_type": "code",
   "execution_count": 50,
   "metadata": {},
   "outputs": [
    {
     "name": "stdout",
     "output_type": "stream",
     "text": [
      "<class 'pandas.core.frame.DataFrame'>\n",
      "RangeIndex: 1731 entries, 0 to 1730\n",
      "Data columns (total 34 columns):\n",
      "id                 1731 non-null int64\n",
      "conversation_id    1731 non-null int64\n",
      "created_at         1731 non-null int64\n",
      "date               1731 non-null object\n",
      "time               1731 non-null object\n",
      "timezone           1731 non-null object\n",
      "user_id            1731 non-null int64\n",
      "username           1731 non-null object\n",
      "name               1731 non-null object\n",
      "place              3 non-null object\n",
      "tweet              1731 non-null object\n",
      "mentions           1731 non-null object\n",
      "urls               1731 non-null object\n",
      "photos             1731 non-null object\n",
      "replies_count      1731 non-null int64\n",
      "retweets_count     1731 non-null int64\n",
      "likes_count        1731 non-null int64\n",
      "hashtags           1731 non-null object\n",
      "cashtags           1731 non-null object\n",
      "link               1731 non-null object\n",
      "retweet            1731 non-null bool\n",
      "quote_url          98 non-null object\n",
      "video              1731 non-null int64\n",
      "near               0 non-null float64\n",
      "geo                0 non-null float64\n",
      "source             0 non-null float64\n",
      "user_rt_id         0 non-null float64\n",
      "user_rt            0 non-null float64\n",
      "retweet_id         0 non-null float64\n",
      "reply_to           1731 non-null object\n",
      "retweet_date       0 non-null float64\n",
      "translate          0 non-null float64\n",
      "trans_src          0 non-null float64\n",
      "trans_dest         0 non-null float64\n",
      "dtypes: bool(1), float64(10), int64(8), object(15)\n",
      "memory usage: 448.1+ KB\n"
     ]
    }
   ],
   "source": [
    "df3 = pd.read_csv('TEDxJakarta2017-2020.csv')\n",
    "\n",
    "df3.info()"
   ]
  },
  {
   "cell_type": "code",
   "execution_count": 51,
   "metadata": {},
   "outputs": [
    {
     "data": {
      "text/html": [
       "<div>\n",
       "<style scoped>\n",
       "    .dataframe tbody tr th:only-of-type {\n",
       "        vertical-align: middle;\n",
       "    }\n",
       "\n",
       "    .dataframe tbody tr th {\n",
       "        vertical-align: top;\n",
       "    }\n",
       "\n",
       "    .dataframe thead th {\n",
       "        text-align: right;\n",
       "    }\n",
       "</style>\n",
       "<table border=\"1\" class=\"dataframe\">\n",
       "  <thead>\n",
       "    <tr style=\"text-align: right;\">\n",
       "      <th></th>\n",
       "      <th>id</th>\n",
       "      <th>conversation_id</th>\n",
       "      <th>created_at</th>\n",
       "      <th>date</th>\n",
       "      <th>time</th>\n",
       "      <th>timezone</th>\n",
       "      <th>user_id</th>\n",
       "      <th>username</th>\n",
       "      <th>name</th>\n",
       "      <th>place</th>\n",
       "      <th>...</th>\n",
       "      <th>geo</th>\n",
       "      <th>source</th>\n",
       "      <th>user_rt_id</th>\n",
       "      <th>user_rt</th>\n",
       "      <th>retweet_id</th>\n",
       "      <th>reply_to</th>\n",
       "      <th>retweet_date</th>\n",
       "      <th>translate</th>\n",
       "      <th>trans_src</th>\n",
       "      <th>trans_dest</th>\n",
       "    </tr>\n",
       "  </thead>\n",
       "  <tbody>\n",
       "    <tr>\n",
       "      <td>1726</td>\n",
       "      <td>869783946346741760</td>\n",
       "      <td>869407066020073472</td>\n",
       "      <td>1496207627000</td>\n",
       "      <td>2017-05-31</td>\n",
       "      <td>12:13:47</td>\n",
       "      <td>SE Asia Standard Time</td>\n",
       "      <td>46087436</td>\n",
       "      <td>tedxjakarta</td>\n",
       "      <td>TEDxJakarta</td>\n",
       "      <td>NaN</td>\n",
       "      <td>...</td>\n",
       "      <td>NaN</td>\n",
       "      <td>NaN</td>\n",
       "      <td>NaN</td>\n",
       "      <td>NaN</td>\n",
       "      <td>NaN</td>\n",
       "      <td>[{'user_id': '46087436', 'username': 'TEDxJaka...</td>\n",
       "      <td>NaN</td>\n",
       "      <td>NaN</td>\n",
       "      <td>NaN</td>\n",
       "      <td>NaN</td>\n",
       "    </tr>\n",
       "    <tr>\n",
       "      <td>1727</td>\n",
       "      <td>869783645183070208</td>\n",
       "      <td>869407066020073472</td>\n",
       "      <td>1496207555000</td>\n",
       "      <td>2017-05-31</td>\n",
       "      <td>12:12:35</td>\n",
       "      <td>SE Asia Standard Time</td>\n",
       "      <td>46087436</td>\n",
       "      <td>tedxjakarta</td>\n",
       "      <td>TEDxJakarta</td>\n",
       "      <td>NaN</td>\n",
       "      <td>...</td>\n",
       "      <td>NaN</td>\n",
       "      <td>NaN</td>\n",
       "      <td>NaN</td>\n",
       "      <td>NaN</td>\n",
       "      <td>NaN</td>\n",
       "      <td>[{'user_id': '46087436', 'username': 'TEDxJaka...</td>\n",
       "      <td>NaN</td>\n",
       "      <td>NaN</td>\n",
       "      <td>NaN</td>\n",
       "      <td>NaN</td>\n",
       "    </tr>\n",
       "    <tr>\n",
       "      <td>1728</td>\n",
       "      <td>869783407345098752</td>\n",
       "      <td>869753370944327680</td>\n",
       "      <td>1496207498000</td>\n",
       "      <td>2017-05-31</td>\n",
       "      <td>12:11:38</td>\n",
       "      <td>SE Asia Standard Time</td>\n",
       "      <td>46087436</td>\n",
       "      <td>tedxjakarta</td>\n",
       "      <td>TEDxJakarta</td>\n",
       "      <td>NaN</td>\n",
       "      <td>...</td>\n",
       "      <td>NaN</td>\n",
       "      <td>NaN</td>\n",
       "      <td>NaN</td>\n",
       "      <td>NaN</td>\n",
       "      <td>NaN</td>\n",
       "      <td>[{'user_id': '46087436', 'username': 'TEDxJaka...</td>\n",
       "      <td>NaN</td>\n",
       "      <td>NaN</td>\n",
       "      <td>NaN</td>\n",
       "      <td>NaN</td>\n",
       "    </tr>\n",
       "    <tr>\n",
       "      <td>1729</td>\n",
       "      <td>869783206459035648</td>\n",
       "      <td>869754916939673601</td>\n",
       "      <td>1496207450000</td>\n",
       "      <td>2017-05-31</td>\n",
       "      <td>12:10:50</td>\n",
       "      <td>SE Asia Standard Time</td>\n",
       "      <td>46087436</td>\n",
       "      <td>tedxjakarta</td>\n",
       "      <td>TEDxJakarta</td>\n",
       "      <td>NaN</td>\n",
       "      <td>...</td>\n",
       "      <td>NaN</td>\n",
       "      <td>NaN</td>\n",
       "      <td>NaN</td>\n",
       "      <td>NaN</td>\n",
       "      <td>NaN</td>\n",
       "      <td>[{'user_id': '46087436', 'username': 'TEDxJaka...</td>\n",
       "      <td>NaN</td>\n",
       "      <td>NaN</td>\n",
       "      <td>NaN</td>\n",
       "      <td>NaN</td>\n",
       "    </tr>\n",
       "    <tr>\n",
       "      <td>1730</td>\n",
       "      <td>869733998938832896</td>\n",
       "      <td>869733998938832896</td>\n",
       "      <td>1496195718000</td>\n",
       "      <td>2017-05-31</td>\n",
       "      <td>08:55:18</td>\n",
       "      <td>SE Asia Standard Time</td>\n",
       "      <td>50518123</td>\n",
       "      <td>stephdevita</td>\n",
       "      <td>Vita</td>\n",
       "      <td>NaN</td>\n",
       "      <td>...</td>\n",
       "      <td>NaN</td>\n",
       "      <td>NaN</td>\n",
       "      <td>NaN</td>\n",
       "      <td>NaN</td>\n",
       "      <td>NaN</td>\n",
       "      <td>[{'user_id': '50518123', 'username': 'stephdev...</td>\n",
       "      <td>NaN</td>\n",
       "      <td>NaN</td>\n",
       "      <td>NaN</td>\n",
       "      <td>NaN</td>\n",
       "    </tr>\n",
       "  </tbody>\n",
       "</table>\n",
       "<p>5 rows × 34 columns</p>\n",
       "</div>"
      ],
      "text/plain": [
       "                      id     conversation_id     created_at        date  \\\n",
       "1726  869783946346741760  869407066020073472  1496207627000  2017-05-31   \n",
       "1727  869783645183070208  869407066020073472  1496207555000  2017-05-31   \n",
       "1728  869783407345098752  869753370944327680  1496207498000  2017-05-31   \n",
       "1729  869783206459035648  869754916939673601  1496207450000  2017-05-31   \n",
       "1730  869733998938832896  869733998938832896  1496195718000  2017-05-31   \n",
       "\n",
       "          time               timezone   user_id     username         name  \\\n",
       "1726  12:13:47  SE Asia Standard Time  46087436  tedxjakarta  TEDxJakarta   \n",
       "1727  12:12:35  SE Asia Standard Time  46087436  tedxjakarta  TEDxJakarta   \n",
       "1728  12:11:38  SE Asia Standard Time  46087436  tedxjakarta  TEDxJakarta   \n",
       "1729  12:10:50  SE Asia Standard Time  46087436  tedxjakarta  TEDxJakarta   \n",
       "1730  08:55:18  SE Asia Standard Time  50518123  stephdevita         Vita   \n",
       "\n",
       "     place  ... geo source user_rt_id user_rt  retweet_id  \\\n",
       "1726   NaN  ... NaN    NaN        NaN     NaN         NaN   \n",
       "1727   NaN  ... NaN    NaN        NaN     NaN         NaN   \n",
       "1728   NaN  ... NaN    NaN        NaN     NaN         NaN   \n",
       "1729   NaN  ... NaN    NaN        NaN     NaN         NaN   \n",
       "1730   NaN  ... NaN    NaN        NaN     NaN         NaN   \n",
       "\n",
       "                                               reply_to  retweet_date  \\\n",
       "1726  [{'user_id': '46087436', 'username': 'TEDxJaka...           NaN   \n",
       "1727  [{'user_id': '46087436', 'username': 'TEDxJaka...           NaN   \n",
       "1728  [{'user_id': '46087436', 'username': 'TEDxJaka...           NaN   \n",
       "1729  [{'user_id': '46087436', 'username': 'TEDxJaka...           NaN   \n",
       "1730  [{'user_id': '50518123', 'username': 'stephdev...           NaN   \n",
       "\n",
       "     translate trans_src trans_dest  \n",
       "1726       NaN       NaN        NaN  \n",
       "1727       NaN       NaN        NaN  \n",
       "1728       NaN       NaN        NaN  \n",
       "1729       NaN       NaN        NaN  \n",
       "1730       NaN       NaN        NaN  \n",
       "\n",
       "[5 rows x 34 columns]"
      ]
     },
     "execution_count": 51,
     "metadata": {},
     "output_type": "execute_result"
    }
   ],
   "source": [
    "df3.tail(5)"
   ]
  },
  {
   "cell_type": "markdown",
   "metadata": {},
   "source": [
    "# Refferences\n",
    "## https://nealcaren.org/lessons/twint/\n",
    "## https://github.com/twintproject/twint"
   ]
  },
  {
   "cell_type": "code",
   "execution_count": 1,
   "metadata": {},
   "outputs": [
    {
     "name": "stderr",
     "output_type": "stream",
     "text": [
      "CRITICAL:root:twint.get:User:'NoneType' object is not subscriptable\n"
     ]
    }
   ],
   "source": [
    "\n",
    "\n",
    "c = twint.Config()\n",
    "c.Username = \"mailbykite\"\n",
    "c.Store_csv = True\n",
    "c.Output = \"mailbykite.csv\"\n",
    "#c.Lang = \"id\"\n",
    "c.Hide_output = True\n",
    "\n",
    "twint.run.Search(c)"
   ]
  },
  {
   "cell_type": "code",
   "execution_count": 2,
   "metadata": {},
   "outputs": [
    {
     "name": "stderr",
     "output_type": "stream",
     "text": [
      "CRITICAL:root:twint.get:User:'NoneType' object is not subscriptable\n"
     ]
    }
   ],
   "source": [
    "c = twint.Config()\n",
    "c.Username = \"pramaditia\"\n",
    "c.Store_csv = True\n",
    "c.Output = \"pramaditia.csv\"\n",
    "#c.Lang = \"id\"\n",
    "c.Hide_output = True\n",
    "\n",
    "twint.run.Search(c)"
   ]
  },
  {
   "cell_type": "code",
   "execution_count": 3,
   "metadata": {},
   "outputs": [
    {
     "name": "stderr",
     "output_type": "stream",
     "text": [
      "CRITICAL:root:twint.get:User:'NoneType' object is not subscriptable\n"
     ]
    }
   ],
   "source": [
    "c = twint.Config()\n",
    "c.Username = \"yohanessurya1\"\n",
    "c.Store_csv = True\n",
    "c.Output = \"yohanessurya1.csv\"\n",
    "#c.Lang = \"id\"\n",
    "c.Hide_output = True\n",
    "\n",
    "twint.run.Search(c)"
   ]
  },
  {
   "cell_type": "code",
   "execution_count": 4,
   "metadata": {},
   "outputs": [
    {
     "name": "stderr",
     "output_type": "stream",
     "text": [
      "CRITICAL:root:twint.get:User:'NoneType' object is not subscriptable\n"
     ]
    }
   ],
   "source": [
    "c = twint.Config()\n",
    "c.Username = \"andrianishak\"\n",
    "c.Store_csv = True\n",
    "c.Output = \"andrianishak.csv\"\n",
    "#c.Lang = \"id\"\n",
    "c.Hide_output = True\n",
    "\n",
    "twint.run.Search(c)"
   ]
  },
  {
   "cell_type": "code",
   "execution_count": 5,
   "metadata": {},
   "outputs": [
    {
     "name": "stderr",
     "output_type": "stream",
     "text": [
      "CRITICAL:root:twint.get:User:'NoneType' object is not subscriptable\n"
     ]
    }
   ],
   "source": [
    "c = twint.Config()\n",
    "c.Username = \"naynadine\"\n",
    "c.Store_csv = True\n",
    "c.Output = \"naynadine.csv\"\n",
    "#c.Lang = \"id\"\n",
    "c.Hide_output = True\n",
    "\n",
    "twint.run.Search(c)"
   ]
  },
  {
   "cell_type": "code",
   "execution_count": null,
   "metadata": {},
   "outputs": [
    {
     "name": "stderr",
     "output_type": "stream",
     "text": [
      "CRITICAL:root:twint.get:User:'NoneType' object is not subscriptable\n",
      "CRITICAL:root:twint.output:checkData:copyrightedTweet\n",
      "CRITICAL:root:twint.run:Twint:Feed:noDataExpecting value: line 1 column 1 (char 0)\n",
      "sleeping for 1.0 secs\n",
      "CRITICAL:root:twint.run:Twint:Feed:noDataExpecting value: line 1 column 1 (char 0)\n",
      "sleeping for 8.0 secs\n",
      "CRITICAL:root:twint.run:Twint:Feed:noDataExpecting value: line 1 column 1 (char 0)\n",
      "sleeping for 27.0 secs\n",
      "CRITICAL:root:twint.run:Twint:Feed:noDataExpecting value: line 1 column 1 (char 0)\n",
      "sleeping for 64.0 secs\n",
      "CRITICAL:root:twint.run:Twint:Feed:noDataExpecting value: line 1 column 1 (char 0)\n",
      "sleeping for 1.0 secs\n",
      "CRITICAL:root:twint.run:Twint:Feed:noDataExpecting value: line 1 column 1 (char 0)\n",
      "sleeping for 8.0 secs\n",
      "CRITICAL:root:twint.run:Twint:Feed:noDataExpecting value: line 1 column 1 (char 0)\n",
      "sleeping for 1.0 secs\n",
      "CRITICAL:root:twint.run:Twint:Feed:noDataExpecting value: line 1 column 1 (char 0)\n",
      "sleeping for 8.0 secs\n",
      "CRITICAL:root:twint.run:Twint:Feed:noDataExpecting value: line 1 column 1 (char 0)\n",
      "sleeping for 27.0 secs\n",
      "CRITICAL:root:twint.run:Twint:Feed:noDataExpecting value: line 1 column 1 (char 0)\n",
      "sleeping for 1.0 secs\n",
      "CRITICAL:root:twint.run:Twint:Feed:noDataExpecting value: line 1 column 1 (char 0)\n",
      "sleeping for 8.0 secs\n",
      "CRITICAL:root:twint.run:Twint:Feed:noDataExpecting value: line 1 column 1 (char 0)\n",
      "sleeping for 27.0 secs\n",
      "CRITICAL:root:twint.run:Twint:Feed:noDataExpecting value: line 1 column 1 (char 0)\n",
      "sleeping for 64.0 secs\n"
     ]
    }
   ],
   "source": [
    "c = twint.Config()\n",
    "c.Username = \"pinot\"\n",
    "c.Store_csv = True\n",
    "c.Output = \"pinot.csv\"\n",
    "#c.Lang = \"id\"\n",
    "c.Hide_output = True\n",
    "\n",
    "twint.run.Search(c)"
   ]
  },
  {
   "cell_type": "code",
   "execution_count": 1,
   "metadata": {},
   "outputs": [
    {
     "name": "stderr",
     "output_type": "stream",
     "text": [
      "CRITICAL:root:twint.get:User:'NoneType' object is not subscriptable\n",
      "CRITICAL:root:twint.run:Twint:Feed:noDataExpecting value: line 1 column 1 (char 0)\n",
      "sleeping for 1.0 secs\n",
      "CRITICAL:root:twint.run:Twint:Feed:noDataExpecting value: line 1 column 1 (char 0)\n",
      "sleeping for 8.0 secs\n",
      "CRITICAL:root:twint.run:Twint:Feed:noDataExpecting value: line 1 column 1 (char 0)\n",
      "sleeping for 27.0 secs\n",
      "CRITICAL:root:twint.run:Twint:Feed:noDataExpecting value: line 1 column 1 (char 0)\n",
      "sleeping for 64.0 secs\n",
      "CRITICAL:root:twint.run:Twint:Feed:noDataExpecting value: line 1 column 1 (char 0)\n",
      "sleeping for 125.0 secs\n",
      "CRITICAL:root:twint.run:Twint:Feed:noDataExpecting value: line 1 column 1 (char 0)\n",
      "sleeping for 1.0 secs\n",
      "CRITICAL:root:twint.run:Twint:Feed:noDataExpecting value: line 1 column 1 (char 0)\n",
      "sleeping for 8.0 secs\n",
      "CRITICAL:root:twint.run:Twint:Feed:noDataExpecting value: line 1 column 1 (char 0)\n",
      "sleeping for 27.0 secs\n",
      "CRITICAL:root:twint.run:Twint:Feed:noDataExpecting value: line 1 column 1 (char 0)\n",
      "sleeping for 64.0 secs\n",
      "CRITICAL:root:twint.run:Twint:Feed:noDataExpecting value: line 1 column 1 (char 0)\n",
      "sleeping for 1.0 secs\n",
      "CRITICAL:root:twint.run:Twint:Feed:noDataExpecting value: line 1 column 1 (char 0)\n",
      "sleeping for 8.0 secs\n",
      "CRITICAL:root:twint.run:Twint:Feed:noDataExpecting value: line 1 column 1 (char 0)\n",
      "sleeping for 27.0 secs\n",
      "CRITICAL:root:twint.run:Twint:Feed:noDataExpecting value: line 1 column 1 (char 0)\n",
      "sleeping for 64.0 secs\n",
      "CRITICAL:root:twint.run:Twint:Feed:noDataExpecting value: line 1 column 1 (char 0)\n",
      "sleeping for 1.0 secs\n",
      "CRITICAL:root:twint.run:Twint:Feed:noDataExpecting value: line 1 column 1 (char 0)\n",
      "sleeping for 8.0 secs\n",
      "CRITICAL:root:twint.run:Twint:Feed:noDataExpecting value: line 1 column 1 (char 0)\n",
      "sleeping for 27.0 secs\n",
      "CRITICAL:root:twint.run:Twint:Feed:noDataExpecting value: line 1 column 1 (char 0)\n",
      "sleeping for 64.0 secs\n",
      "CRITICAL:root:twint.run:Twint:Feed:noDataExpecting value: line 1 column 1 (char 0)\n",
      "sleeping for 1.0 secs\n",
      "CRITICAL:root:twint.run:Twint:Feed:noDataExpecting value: line 1 column 1 (char 0)\n",
      "sleeping for 8.0 secs\n",
      "CRITICAL:root:twint.run:Twint:Feed:noDataExpecting value: line 1 column 1 (char 0)\n",
      "sleeping for 27.0 secs\n",
      "CRITICAL:root:twint.run:Twint:Feed:noDataExpecting value: line 1 column 1 (char 0)\n",
      "sleeping for 64.0 secs\n",
      "CRITICAL:root:twint.run:Twint:Feed:noDataExpecting value: line 1 column 1 (char 0)\n",
      "sleeping for 1.0 secs\n",
      "CRITICAL:root:twint.run:Twint:Feed:noDataExpecting value: line 1 column 1 (char 0)\n",
      "sleeping for 8.0 secs\n",
      "CRITICAL:root:twint.run:Twint:Feed:noDataExpecting value: line 1 column 1 (char 0)\n",
      "sleeping for 27.0 secs\n",
      "CRITICAL:root:twint.run:Twint:Feed:noDataExpecting value: line 1 column 1 (char 0)\n",
      "sleeping for 1.0 secs\n",
      "CRITICAL:root:twint.run:Twint:Feed:noDataExpecting value: line 1 column 1 (char 0)\n",
      "sleeping for 8.0 secs\n",
      "CRITICAL:root:twint.run:Twint:Feed:noDataExpecting value: line 1 column 1 (char 0)\n",
      "sleeping for 27.0 secs\n",
      "CRITICAL:root:twint.run:Twint:Feed:noDataExpecting value: line 1 column 1 (char 0)\n",
      "sleeping for 64.0 secs\n",
      "CRITICAL:root:twint.run:Twint:Feed:noDataExpecting value: line 1 column 1 (char 0)\n",
      "sleeping for 125.0 secs\n"
     ]
    }
   ],
   "source": [
    "import twint\n",
    "import nest_asyncio\n",
    "\n",
    "nest_asyncio.apply()\n",
    "c = twint.Config()\n",
    "c.Username = \"rahung\"\n",
    "c.Store_csv = True\n",
    "c.Output = \"rahung.csv\"\n",
    "#c.Lang = \"id\"\n",
    "c.Hide_output = True\n",
    "\n",
    "twint.run.Search(c)"
   ]
  },
  {
   "cell_type": "code",
   "execution_count": 2,
   "metadata": {},
   "outputs": [
    {
     "name": "stderr",
     "output_type": "stream",
     "text": [
      "CRITICAL:root:twint.get:User:'NoneType' object is not subscriptable\n"
     ]
    }
   ],
   "source": [
    "c = twint.Config()\n",
    "c.Username = \"ronngan\"\n",
    "c.Store_csv = True\n",
    "c.Output = \"ronngan.csv\"\n",
    "#c.Lang = \"id\"\n",
    "c.Hide_output = True\n",
    "\n",
    "twint.run.Search(c)"
   ]
  },
  {
   "cell_type": "code",
   "execution_count": 3,
   "metadata": {},
   "outputs": [
    {
     "name": "stderr",
     "output_type": "stream",
     "text": [
      "CRITICAL:root:twint.get:User:'NoneType' object is not subscriptable\n"
     ]
    }
   ],
   "source": [
    "c = twint.Config()\n",
    "c.Username = \"sidrotun_naim\"\n",
    "c.Store_csv = True\n",
    "c.Output = \"sidrotun_naim.csv\"\n",
    "#c.Lang = \"id\"\n",
    "c.Hide_output = True\n",
    "\n",
    "twint.run.Search(c)"
   ]
  },
  {
   "cell_type": "markdown",
   "metadata": {},
   "source": [
    "## Event 10"
   ]
  },
  {
   "cell_type": "code",
   "execution_count": 4,
   "metadata": {},
   "outputs": [
    {
     "name": "stderr",
     "output_type": "stream",
     "text": [
      "CRITICAL:root:twint.get:User:'NoneType' object is not subscriptable\n"
     ]
    }
   ],
   "source": [
    "c = twint.Config()\n",
    "c.Username = \"alexsihar\"\n",
    "c.Store_csv = True\n",
    "c.Output = \"alexsihar.csv\"\n",
    "#c.Lang = \"id\"\n",
    "c.Hide_output = True\n",
    "\n",
    "twint.run.Search(c)"
   ]
  },
  {
   "cell_type": "code",
   "execution_count": 5,
   "metadata": {},
   "outputs": [
    {
     "name": "stderr",
     "output_type": "stream",
     "text": [
      "CRITICAL:root:twint.get:User:'NoneType' object is not subscriptable\n"
     ]
    },
    {
     "ename": "KeyboardInterrupt",
     "evalue": "",
     "output_type": "error",
     "traceback": [
      "\u001b[1;31m---------------------------------------------------------------------------\u001b[0m",
      "\u001b[1;31mKeyboardInterrupt\u001b[0m                         Traceback (most recent call last)",
      "\u001b[1;32m<ipython-input-5-8d32486b1585>\u001b[0m in \u001b[0;36m<module>\u001b[1;34m\u001b[0m\n\u001b[0;32m      6\u001b[0m \u001b[0mc\u001b[0m\u001b[1;33m.\u001b[0m\u001b[0mHide_output\u001b[0m \u001b[1;33m=\u001b[0m \u001b[1;32mTrue\u001b[0m\u001b[1;33m\u001b[0m\u001b[1;33m\u001b[0m\u001b[0m\n\u001b[0;32m      7\u001b[0m \u001b[1;33m\u001b[0m\u001b[0m\n\u001b[1;32m----> 8\u001b[1;33m \u001b[0mtwint\u001b[0m\u001b[1;33m.\u001b[0m\u001b[0mrun\u001b[0m\u001b[1;33m.\u001b[0m\u001b[0mSearch\u001b[0m\u001b[1;33m(\u001b[0m\u001b[0mc\u001b[0m\u001b[1;33m)\u001b[0m\u001b[1;33m\u001b[0m\u001b[1;33m\u001b[0m\u001b[0m\n\u001b[0m",
      "\u001b[1;32m~\\AppData\\Local\\Continuum\\anaconda3\\lib\\site-packages\\twint\\run.py\u001b[0m in \u001b[0;36mSearch\u001b[1;34m(config, callback)\u001b[0m\n\u001b[0;32m    325\u001b[0m     \u001b[0mconfig\u001b[0m\u001b[1;33m.\u001b[0m\u001b[0mProfile\u001b[0m \u001b[1;33m=\u001b[0m \u001b[1;32mFalse\u001b[0m\u001b[1;33m\u001b[0m\u001b[1;33m\u001b[0m\u001b[0m\n\u001b[0;32m    326\u001b[0m     \u001b[0mconfig\u001b[0m\u001b[1;33m.\u001b[0m\u001b[0mProfile_full\u001b[0m \u001b[1;33m=\u001b[0m \u001b[1;32mFalse\u001b[0m\u001b[1;33m\u001b[0m\u001b[1;33m\u001b[0m\u001b[0m\n\u001b[1;32m--> 327\u001b[1;33m     \u001b[0mrun\u001b[0m\u001b[1;33m(\u001b[0m\u001b[0mconfig\u001b[0m\u001b[1;33m,\u001b[0m \u001b[0mcallback\u001b[0m\u001b[1;33m)\u001b[0m\u001b[1;33m\u001b[0m\u001b[1;33m\u001b[0m\u001b[0m\n\u001b[0m\u001b[0;32m    328\u001b[0m     \u001b[1;32mif\u001b[0m \u001b[0mconfig\u001b[0m\u001b[1;33m.\u001b[0m\u001b[0mPandas_au\u001b[0m\u001b[1;33m:\u001b[0m\u001b[1;33m\u001b[0m\u001b[1;33m\u001b[0m\u001b[0m\n\u001b[0;32m    329\u001b[0m         \u001b[0mstorage\u001b[0m\u001b[1;33m.\u001b[0m\u001b[0mpanda\u001b[0m\u001b[1;33m.\u001b[0m\u001b[0m_autoget\u001b[0m\u001b[1;33m(\u001b[0m\u001b[1;34m\"tweet\"\u001b[0m\u001b[1;33m)\u001b[0m\u001b[1;33m\u001b[0m\u001b[1;33m\u001b[0m\u001b[0m\n",
      "\u001b[1;32m~\\AppData\\Local\\Continuum\\anaconda3\\lib\\site-packages\\twint\\run.py\u001b[0m in \u001b[0;36mrun\u001b[1;34m(config, callback)\u001b[0m\n\u001b[0;32m    224\u001b[0m         \u001b[1;32mraise\u001b[0m\u001b[1;33m\u001b[0m\u001b[1;33m\u001b[0m\u001b[0m\n\u001b[0;32m    225\u001b[0m \u001b[1;33m\u001b[0m\u001b[0m\n\u001b[1;32m--> 226\u001b[1;33m     \u001b[0mget_event_loop\u001b[0m\u001b[1;33m(\u001b[0m\u001b[1;33m)\u001b[0m\u001b[1;33m.\u001b[0m\u001b[0mrun_until_complete\u001b[0m\u001b[1;33m(\u001b[0m\u001b[0mTwint\u001b[0m\u001b[1;33m(\u001b[0m\u001b[0mconfig\u001b[0m\u001b[1;33m)\u001b[0m\u001b[1;33m.\u001b[0m\u001b[0mmain\u001b[0m\u001b[1;33m(\u001b[0m\u001b[0mcallback\u001b[0m\u001b[1;33m)\u001b[0m\u001b[1;33m)\u001b[0m\u001b[1;33m\u001b[0m\u001b[1;33m\u001b[0m\u001b[0m\n\u001b[0m\u001b[0;32m    227\u001b[0m \u001b[1;33m\u001b[0m\u001b[0m\n\u001b[0;32m    228\u001b[0m \u001b[1;32mdef\u001b[0m \u001b[0mFavorites\u001b[0m\u001b[1;33m(\u001b[0m\u001b[0mconfig\u001b[0m\u001b[1;33m)\u001b[0m\u001b[1;33m:\u001b[0m\u001b[1;33m\u001b[0m\u001b[1;33m\u001b[0m\u001b[0m\n",
      "\u001b[1;32m~\\AppData\\Local\\Continuum\\anaconda3\\lib\\site-packages\\nest_asyncio.py\u001b[0m in \u001b[0;36mrun_until_complete\u001b[1;34m(self, future)\u001b[0m\n\u001b[0;32m     52\u001b[0m             \u001b[0mf\u001b[0m\u001b[1;33m.\u001b[0m\u001b[0m_log_destroy_pending\u001b[0m \u001b[1;33m=\u001b[0m \u001b[1;32mFalse\u001b[0m\u001b[1;33m\u001b[0m\u001b[1;33m\u001b[0m\u001b[0m\n\u001b[0;32m     53\u001b[0m         \u001b[1;32mwhile\u001b[0m \u001b[1;32mnot\u001b[0m \u001b[0mf\u001b[0m\u001b[1;33m.\u001b[0m\u001b[0mdone\u001b[0m\u001b[1;33m(\u001b[0m\u001b[1;33m)\u001b[0m\u001b[1;33m:\u001b[0m\u001b[1;33m\u001b[0m\u001b[1;33m\u001b[0m\u001b[0m\n\u001b[1;32m---> 54\u001b[1;33m             \u001b[0mself\u001b[0m\u001b[1;33m.\u001b[0m\u001b[0m_run_once\u001b[0m\u001b[1;33m(\u001b[0m\u001b[1;33m)\u001b[0m\u001b[1;33m\u001b[0m\u001b[1;33m\u001b[0m\u001b[0m\n\u001b[0m\u001b[0;32m     55\u001b[0m             \u001b[1;32mif\u001b[0m \u001b[0mself\u001b[0m\u001b[1;33m.\u001b[0m\u001b[0m_stopping\u001b[0m\u001b[1;33m:\u001b[0m\u001b[1;33m\u001b[0m\u001b[1;33m\u001b[0m\u001b[0m\n\u001b[0;32m     56\u001b[0m                 \u001b[1;32mbreak\u001b[0m\u001b[1;33m\u001b[0m\u001b[1;33m\u001b[0m\u001b[0m\n",
      "\u001b[1;32m~\\AppData\\Local\\Continuum\\anaconda3\\lib\\site-packages\\nest_asyncio.py\u001b[0m in \u001b[0;36m_run_once\u001b[1;34m(self)\u001b[0m\n\u001b[0;32m     73\u001b[0m             \u001b[1;32melse\u001b[0m \u001b[0mmin\u001b[0m\u001b[1;33m(\u001b[0m\u001b[0mmax\u001b[0m\u001b[1;33m(\u001b[0m\u001b[1;36m0\u001b[0m\u001b[1;33m,\u001b[0m \u001b[0mscheduled\u001b[0m\u001b[1;33m[\u001b[0m\u001b[1;36m0\u001b[0m\u001b[1;33m]\u001b[0m\u001b[1;33m.\u001b[0m\u001b[0m_when\u001b[0m \u001b[1;33m-\u001b[0m \u001b[0mnow\u001b[0m\u001b[1;33m)\u001b[0m\u001b[1;33m,\u001b[0m \u001b[1;36m10\u001b[0m\u001b[1;33m)\u001b[0m \u001b[1;32mif\u001b[0m \u001b[0mscheduled\u001b[0m\u001b[0;31m \u001b[0m\u001b[0;31m\\\u001b[0m\u001b[1;33m\u001b[0m\u001b[1;33m\u001b[0m\u001b[0m\n\u001b[0;32m     74\u001b[0m             \u001b[1;32melse\u001b[0m \u001b[1;32mNone\u001b[0m\u001b[1;33m\u001b[0m\u001b[1;33m\u001b[0m\u001b[0m\n\u001b[1;32m---> 75\u001b[1;33m         \u001b[0mevent_list\u001b[0m \u001b[1;33m=\u001b[0m \u001b[0mself\u001b[0m\u001b[1;33m.\u001b[0m\u001b[0m_selector\u001b[0m\u001b[1;33m.\u001b[0m\u001b[0mselect\u001b[0m\u001b[1;33m(\u001b[0m\u001b[0mtimeout\u001b[0m\u001b[1;33m)\u001b[0m\u001b[1;33m\u001b[0m\u001b[1;33m\u001b[0m\u001b[0m\n\u001b[0m\u001b[0;32m     76\u001b[0m         \u001b[0mself\u001b[0m\u001b[1;33m.\u001b[0m\u001b[0m_process_events\u001b[0m\u001b[1;33m(\u001b[0m\u001b[0mevent_list\u001b[0m\u001b[1;33m)\u001b[0m\u001b[1;33m\u001b[0m\u001b[1;33m\u001b[0m\u001b[0m\n\u001b[0;32m     77\u001b[0m \u001b[1;33m\u001b[0m\u001b[0m\n",
      "\u001b[1;32m~\\AppData\\Local\\Continuum\\anaconda3\\lib\\selectors.py\u001b[0m in \u001b[0;36mselect\u001b[1;34m(self, timeout)\u001b[0m\n\u001b[0;32m    321\u001b[0m         \u001b[0mready\u001b[0m \u001b[1;33m=\u001b[0m \u001b[1;33m[\u001b[0m\u001b[1;33m]\u001b[0m\u001b[1;33m\u001b[0m\u001b[1;33m\u001b[0m\u001b[0m\n\u001b[0;32m    322\u001b[0m         \u001b[1;32mtry\u001b[0m\u001b[1;33m:\u001b[0m\u001b[1;33m\u001b[0m\u001b[1;33m\u001b[0m\u001b[0m\n\u001b[1;32m--> 323\u001b[1;33m             \u001b[0mr\u001b[0m\u001b[1;33m,\u001b[0m \u001b[0mw\u001b[0m\u001b[1;33m,\u001b[0m \u001b[0m_\u001b[0m \u001b[1;33m=\u001b[0m \u001b[0mself\u001b[0m\u001b[1;33m.\u001b[0m\u001b[0m_select\u001b[0m\u001b[1;33m(\u001b[0m\u001b[0mself\u001b[0m\u001b[1;33m.\u001b[0m\u001b[0m_readers\u001b[0m\u001b[1;33m,\u001b[0m \u001b[0mself\u001b[0m\u001b[1;33m.\u001b[0m\u001b[0m_writers\u001b[0m\u001b[1;33m,\u001b[0m \u001b[1;33m[\u001b[0m\u001b[1;33m]\u001b[0m\u001b[1;33m,\u001b[0m \u001b[0mtimeout\u001b[0m\u001b[1;33m)\u001b[0m\u001b[1;33m\u001b[0m\u001b[1;33m\u001b[0m\u001b[0m\n\u001b[0m\u001b[0;32m    324\u001b[0m         \u001b[1;32mexcept\u001b[0m \u001b[0mInterruptedError\u001b[0m\u001b[1;33m:\u001b[0m\u001b[1;33m\u001b[0m\u001b[1;33m\u001b[0m\u001b[0m\n\u001b[0;32m    325\u001b[0m             \u001b[1;32mreturn\u001b[0m \u001b[0mready\u001b[0m\u001b[1;33m\u001b[0m\u001b[1;33m\u001b[0m\u001b[0m\n",
      "\u001b[1;32m~\\AppData\\Local\\Continuum\\anaconda3\\lib\\selectors.py\u001b[0m in \u001b[0;36m_select\u001b[1;34m(self, r, w, _, timeout)\u001b[0m\n\u001b[0;32m    312\u001b[0m     \u001b[1;32mif\u001b[0m \u001b[0msys\u001b[0m\u001b[1;33m.\u001b[0m\u001b[0mplatform\u001b[0m \u001b[1;33m==\u001b[0m \u001b[1;34m'win32'\u001b[0m\u001b[1;33m:\u001b[0m\u001b[1;33m\u001b[0m\u001b[1;33m\u001b[0m\u001b[0m\n\u001b[0;32m    313\u001b[0m         \u001b[1;32mdef\u001b[0m \u001b[0m_select\u001b[0m\u001b[1;33m(\u001b[0m\u001b[0mself\u001b[0m\u001b[1;33m,\u001b[0m \u001b[0mr\u001b[0m\u001b[1;33m,\u001b[0m \u001b[0mw\u001b[0m\u001b[1;33m,\u001b[0m \u001b[0m_\u001b[0m\u001b[1;33m,\u001b[0m \u001b[0mtimeout\u001b[0m\u001b[1;33m=\u001b[0m\u001b[1;32mNone\u001b[0m\u001b[1;33m)\u001b[0m\u001b[1;33m:\u001b[0m\u001b[1;33m\u001b[0m\u001b[1;33m\u001b[0m\u001b[0m\n\u001b[1;32m--> 314\u001b[1;33m             \u001b[0mr\u001b[0m\u001b[1;33m,\u001b[0m \u001b[0mw\u001b[0m\u001b[1;33m,\u001b[0m \u001b[0mx\u001b[0m \u001b[1;33m=\u001b[0m \u001b[0mselect\u001b[0m\u001b[1;33m.\u001b[0m\u001b[0mselect\u001b[0m\u001b[1;33m(\u001b[0m\u001b[0mr\u001b[0m\u001b[1;33m,\u001b[0m \u001b[0mw\u001b[0m\u001b[1;33m,\u001b[0m \u001b[0mw\u001b[0m\u001b[1;33m,\u001b[0m \u001b[0mtimeout\u001b[0m\u001b[1;33m)\u001b[0m\u001b[1;33m\u001b[0m\u001b[1;33m\u001b[0m\u001b[0m\n\u001b[0m\u001b[0;32m    315\u001b[0m             \u001b[1;32mreturn\u001b[0m \u001b[0mr\u001b[0m\u001b[1;33m,\u001b[0m \u001b[0mw\u001b[0m \u001b[1;33m+\u001b[0m \u001b[0mx\u001b[0m\u001b[1;33m,\u001b[0m \u001b[1;33m[\u001b[0m\u001b[1;33m]\u001b[0m\u001b[1;33m\u001b[0m\u001b[1;33m\u001b[0m\u001b[0m\n\u001b[0;32m    316\u001b[0m     \u001b[1;32melse\u001b[0m\u001b[1;33m:\u001b[0m\u001b[1;33m\u001b[0m\u001b[1;33m\u001b[0m\u001b[0m\n",
      "\u001b[1;31mKeyboardInterrupt\u001b[0m: "
     ]
    }
   ],
   "source": [
    "c = twint.Config()\n",
    "c.Username = \"lianggono\"\n",
    "c.Store_csv = True\n",
    "c.Output = \"lianggono.csv\"\n",
    "#c.Lang = \"id\"\n",
    "c.Hide_output = True\n",
    "\n",
    "twint.run.Search(c)"
   ]
  },
  {
   "cell_type": "code",
   "execution_count": null,
   "metadata": {},
   "outputs": [],
   "source": [
    "c = twint.Config()\n",
    "c.Username = \"RaziThalib\"\n",
    "c.Store_csv = True\n",
    "c.Output = \"RaziThalib.csv\"\n",
    "#c.Lang = \"id\"\n",
    "c.Hide_output = True\n",
    "\n",
    "twint.run.Search(c)"
   ]
  },
  {
   "cell_type": "code",
   "execution_count": null,
   "metadata": {},
   "outputs": [],
   "source": [
    "c = twint.Config()\n",
    "c.Username = \"stanleywidianto\"\n",
    "c.Store_csv = True\n",
    "c.Output = \"stanleywidianto.csv\"\n",
    "#c.Lang = \"id\"\n",
    "c.Hide_output = True\n",
    "\n",
    "twint.run.Search(c)"
   ]
  },
  {
   "cell_type": "code",
   "execution_count": null,
   "metadata": {},
   "outputs": [],
   "source": [
    "c = twint.Config()\n",
    "c.Username = \"wahyudhyatmika\"\n",
    "c.Store_csv = True\n",
    "c.Output = \"wahyudhyatmika.csv\"\n",
    "#c.Lang = \"id\"\n",
    "c.Hide_output = True\n",
    "\n",
    "twint.run.Search(c)"
   ]
  },
  {
   "cell_type": "markdown",
   "metadata": {},
   "source": [
    "## Event 11"
   ]
  },
  {
   "cell_type": "code",
   "execution_count": null,
   "metadata": {},
   "outputs": [],
   "source": [
    "c = twint.Config()\n",
    "c.Username = \"anindochka\"\n",
    "c.Store_csv = True\n",
    "c.Output = \"wahyudhyatmika.csv\"\n",
    "#c.Lang = \"id\"\n",
    "c.Hide_output = True\n",
    "\n",
    "twint.run.Search(c)"
   ]
  },
  {
   "cell_type": "code",
   "execution_count": null,
   "metadata": {},
   "outputs": [],
   "source": [
    "c = twint.Config()\n",
    "c.Username = \"heydian\"\n",
    "c.Store_csv = True\n",
    "c.Output = \"heydian.csv\"\n",
    "#c.Lang = \"id\"\n",
    "c.Hide_output = True\n",
    "\n",
    "twint.run.Search(c)"
   ]
  },
  {
   "cell_type": "code",
   "execution_count": null,
   "metadata": {},
   "outputs": [],
   "source": [
    "c = twint.Config()\n",
    "c.Username = \"fayesimanjuntak\"\n",
    "c.Store_csv = True\n",
    "c.Output = \"fayesimanjuntak.csv\"\n",
    "#c.Lang = \"id\"\n",
    "c.Hide_output = True\n",
    "\n",
    "twint.run.Search(c)"
   ]
  },
  {
   "cell_type": "code",
   "execution_count": null,
   "metadata": {},
   "outputs": [],
   "source": [
    "c = twint.Config()\n",
    "c.Username = \"firlysavitri\"\n",
    "c.Store_csv = True\n",
    "c.Output = \"firlysavitri.csv\"\n",
    "#c.Lang = \"id\"\n",
    "c.Hide_output = True\n",
    "\n",
    "twint.run.Search(c)"
   ]
  },
  {
   "cell_type": "code",
   "execution_count": null,
   "metadata": {},
   "outputs": [],
   "source": [
    "c = twint.Config()\n",
    "c.Username = \"veceha\"\n",
    "c.Store_csv = True\n",
    "c.Output = \"veceha.csv\"\n",
    "#c.Lang = \"id\"\n",
    "c.Hide_output = True\n",
    "\n",
    "twint.run.Search(c)"
   ]
  },
  {
   "cell_type": "code",
   "execution_count": null,
   "metadata": {},
   "outputs": [],
   "source": []
  }
 ],
 "metadata": {
  "kernelspec": {
   "display_name": "Python 3",
   "language": "python",
   "name": "python3"
  },
  "language_info": {
   "codemirror_mode": {
    "name": "ipython",
    "version": 3
   },
   "file_extension": ".py",
   "mimetype": "text/x-python",
   "name": "python",
   "nbconvert_exporter": "python",
   "pygments_lexer": "ipython3",
   "version": "3.7.4"
  }
 },
 "nbformat": 4,
 "nbformat_minor": 2
}
